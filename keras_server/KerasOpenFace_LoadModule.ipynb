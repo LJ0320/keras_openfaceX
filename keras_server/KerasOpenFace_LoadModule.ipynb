{
 "cells": [
  {
   "cell_type": "code",
   "execution_count": 2,
   "metadata": {
    "collapsed": true
   },
   "outputs": [],
   "source": [
    "from keras.models import load_model\n",
    "# model = load_model('./model/nn4.small2.lrn.h5')\n",
    "from keras.utils import CustomObjectScope\n",
    "import tensorflow as tf\n",
    "import cv2\n",
    "import os\n",
    "import numpy as np\n",
    "from numpy import genfromtxt\n",
    "import pandas as pd\n",
    "import tensorflow as tf\n",
    "from utils import LRN2D\n",
    "import utils\n",
    "import time\n"
   ]
  },
  {
   "cell_type": "code",
   "execution_count": null,
   "metadata": {
    "collapsed": true
   },
   "outputs": [],
   "source": [
    "with CustomObjectScope({'tf': tf}):\n",
    "    model = load_model('./model/nn4.small2.lrn.h5')"
   ]
  },
  {
   "cell_type": "code",
   "execution_count": 8,
   "metadata": {},
   "outputs": [
    {
     "name": "stdout",
     "output_type": "stream",
     "text": [
      "(1, 96, 96, 3)\n",
      "[[-0.08522574  0.03644944  0.15984081 -0.03745545  0.08939396  0.03425279\n",
      "  -0.063412   -0.04992212 -0.0554178   0.0131702  -0.05180289 -0.01092352\n",
      "   0.00403998 -0.0371744   0.23141068 -0.04424635 -0.04295607 -0.08638494\n",
      "   0.06910949  0.1023321  -0.00389427 -0.04281625  0.12612467  0.05532764\n",
      "   0.08476287  0.05414326 -0.10655729 -0.14595225  0.07280892 -0.09099899\n",
      "   0.15070935 -0.01036447  0.08422464  0.05349297  0.08501194  0.07618121\n",
      "   0.08037803  0.16875139  0.05394089 -0.08816396  0.08629557 -0.06101562\n",
      "  -0.05618661 -0.10756346 -0.10541903  0.14028624  0.08924572  0.03936419\n",
      "  -0.09337156 -0.02996936 -0.15012674 -0.00212908  0.12734105 -0.05226\n",
      "   0.06900386  0.0008456   0.03944504  0.01557522 -0.13552047 -0.05011808\n",
      "  -0.0761359   0.05196699 -0.00774218 -0.06747016  0.11588656  0.13562819\n",
      "   0.00302306  0.09198839 -0.05571186 -0.00683171 -0.04168133  0.04994162\n",
      "  -0.15249494  0.01469604  0.17082503 -0.0030494  -0.09212847  0.01321479\n",
      "   0.1779936   0.1424095  -0.12484144  0.03958867  0.01035329  0.04672083\n",
      "   0.06765994 -0.11579999  0.03275306  0.14165322 -0.01039438  0.03352828\n",
      "   0.12731986  0.0634717   0.1311167   0.10363366 -0.10493044 -0.12055762\n",
      "  -0.01911567  0.09075524  0.00511973 -0.1276737   0.0020327  -0.086281\n",
      "  -0.09916238 -0.04737625 -0.02554847  0.09105369  0.05422086 -0.00897123\n",
      "   0.19741346  0.00111496  0.01334339  0.10782113 -0.07835136 -0.03197026\n",
      "   0.07145801  0.0315244  -0.17263648 -0.11314192 -0.04878577  0.175226\n",
      "   0.07829684  0.0547028  -0.11057709  0.06327056 -0.07611759  0.08864404\n",
      "   0.07197262  0.00157531]]\n"
     ]
    }
   ],
   "source": [
    "\n",
    "# Read a sample image as input to test the model\n",
    "img = cv2.imread('./data/Anthony_Hopkins_0001.jpg', 1)  \n",
    "img=cv2.resize(img,(96,96),interpolation=cv2.INTER_CUBIC)\n",
    "\n",
    "#rint(\"cv2 imread using BGR  need convert to RGB\")\n",
    "#[[ 51  96 164]  ---> #[[164  96  51]\n",
    "img = img[...,::-1]\n",
    "\n",
    "\n",
    "#another way to convert bgr to rgb \n",
    "b,g,r = cv2.split(img)       # get b,g,r\n",
    "img = cv2.merge([r,g,b])     # switch it to rgb\n",
    "\n",
    "\n",
    "# confused why need np.transpose?\n",
    "#img = np.around(np.transpose(img, (0,1,2))/255.0, decimals=12)\n",
    "img = np.around(img/255.0, decimals=12)\n",
    "\n",
    "x_train = np.array([img])\n",
    "#print(x_train.shape)\n",
    "y = model.predict_on_batch(x_train)\n",
    "print (y)"
   ]
  },
  {
   "cell_type": "code",
   "execution_count": null,
   "metadata": {
    "collapsed": true
   },
   "outputs": [],
   "source": []
  }
 ],
 "metadata": {
  "kernelspec": {
   "display_name": "Python 3",
   "language": "python",
   "name": "python3"
  },
  "language_info": {
   "codemirror_mode": {
    "name": "ipython",
    "version": 3
   },
   "file_extension": ".py",
   "mimetype": "text/x-python",
   "name": "python",
   "nbconvert_exporter": "python",
   "pygments_lexer": "ipython3",
   "version": "3.5.4"
  }
 },
 "nbformat": 4,
 "nbformat_minor": 2
}
